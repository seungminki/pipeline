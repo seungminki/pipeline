{
 "cells": [
  {
   "cell_type": "code",
   "execution_count": null,
   "metadata": {},
   "outputs": [],
   "source": [
    "# python 노트정리 : 2022-12"
   ]
  },
  {
   "cell_type": "code",
   "execution_count": 1,
   "metadata": {},
   "outputs": [
    {
     "name": "stdout",
     "output_type": "stream",
     "text": [
      "Collecting click\n",
      "  Downloading click-8.1.3-py3-none-any.whl (96 kB)\n",
      "     ---------------------------------------- 96.6/96.6 kB ? eta 0:00:00\n",
      "Requirement already satisfied: colorama in c:\\programdata\\anaconda3\\envs\\py38\\lib\\site-packages (from click) (0.4.6)\n",
      "Installing collected packages: click\n",
      "Successfully installed click-8.1.3\n"
     ]
    }
   ],
   "source": [
    "pip install click\n",
    "# 와 터미널에서 해도 되는건데 나 바보네"
   ]
  },
  {
   "cell_type": "markdown",
   "metadata": {},
   "source": [
    "숫자 : 이 파일에서의 에러 갯수  \n",
    "M : 수정됨  \n",
    "D : 삭제됨 (git 항목에서 표시)  \n",
    "U : 추적되지 않음(git 항목에서 표시)  "
   ]
  },
  {
   "cell_type": "code",
   "execution_count": 8,
   "metadata": {},
   "outputs": [],
   "source": [
    "from datetime import datetime"
   ]
  },
  {
   "cell_type": "code",
   "execution_count": 9,
   "metadata": {},
   "outputs": [
    {
     "data": {
      "text/plain": [
       "datetime.datetime(2022, 12, 27, 9, 48, 10, 982549)"
      ]
     },
     "execution_count": 9,
     "metadata": {},
     "output_type": "execute_result"
    }
   ],
   "source": [
    "datetime.now()"
   ]
  },
  {
   "cell_type": "code",
   "execution_count": 10,
   "metadata": {},
   "outputs": [
    {
     "data": {
      "text/plain": [
       "datetime.datetime(2022, 12, 1, 9, 49, 4, 405392)"
      ]
     },
     "execution_count": 10,
     "metadata": {},
     "output_type": "execute_result"
    }
   ],
   "source": [
    "datetime.today().replace(day = 1)"
   ]
  },
  {
   "cell_type": "code",
   "execution_count": 12,
   "metadata": {},
   "outputs": [],
   "source": [
    "from datetime import datetime, timedelta, timezone"
   ]
  },
  {
   "cell_type": "code",
   "execution_count": 17,
   "metadata": {},
   "outputs": [
    {
     "data": {
      "text/plain": [
       "datetime.datetime(2022, 12, 1, 9, 50, 30, 511869)"
      ]
     },
     "execution_count": 17,
     "metadata": {},
     "output_type": "execute_result"
    }
   ],
   "source": [
    "first_day = datetime.today().replace(day = 1)\n",
    "first_day"
   ]
  },
  {
   "cell_type": "code",
   "execution_count": 16,
   "metadata": {},
   "outputs": [
    {
     "data": {
      "text/plain": [
       "datetime.datetime(2022, 11, 30, 9, 50, 14, 905929)"
      ]
     },
     "execution_count": 16,
     "metadata": {},
     "output_type": "execute_result"
    }
   ],
   "source": [
    "batch_month = first_day - timedelta(days = 1)\n",
    "batch_month"
   ]
  },
  {
   "cell_type": "code",
   "execution_count": 13,
   "metadata": {},
   "outputs": [
    {
     "data": {
      "text/plain": [
       "'202211'"
      ]
     },
     "execution_count": 13,
     "metadata": {},
     "output_type": "execute_result"
    }
   ],
   "source": [
    "first_day = datetime.today().replace(day = 1)\n",
    "batch_month = first_day - timedelta(days = 1)\n",
    "batch_month.strftime('%Y%m')"
   ]
  },
  {
   "cell_type": "code",
   "execution_count": 5,
   "metadata": {},
   "outputs": [
    {
     "name": "stdout",
     "output_type": "stream",
     "text": [
      "Collecting pandas\n",
      "  Downloading pandas-1.5.2-cp38-cp38-win_amd64.whl (11.0 MB)\n",
      "     --------------------------------------- 11.0/11.0 MB 11.5 MB/s eta 0:00:00\n",
      "Requirement already satisfied: python-dateutil>=2.8.1 in c:\\programdata\\anaconda3\\envs\\py38\\lib\\site-packages (from pandas) (2.8.2)\n",
      "Requirement already satisfied: pytz>=2020.1 in c:\\programdata\\anaconda3\\envs\\py38\\lib\\site-packages (from pandas) (2022.7)\n",
      "Collecting numpy>=1.20.3\n",
      "  Downloading numpy-1.24.1-cp38-cp38-win_amd64.whl (14.9 MB)\n",
      "     --------------------------------------- 14.9/14.9 MB 11.5 MB/s eta 0:00:00\n",
      "Requirement already satisfied: six>=1.5 in c:\\programdata\\anaconda3\\envs\\py38\\lib\\site-packages (from python-dateutil>=2.8.1->pandas) (1.16.0)\n",
      "Installing collected packages: numpy, pandas\n",
      "Successfully installed numpy-1.24.1 pandas-1.5.2\n",
      "Note: you may need to restart the kernel to use updated packages.\n"
     ]
    }
   ],
   "source": [
    "pip install pandas"
   ]
  },
  {
   "cell_type": "code",
   "execution_count": 6,
   "metadata": {},
   "outputs": [
    {
     "data": {
      "text/plain": [
       "{'location': 'localhost_source',\n",
       " 'host': '127.0.0.1',\n",
       " 'port': '5432',\n",
       " 'user': 'postgres',\n",
       " 'password': '0328',\n",
       " 'database': 'dvdrental',\n",
       " 'engine': 'postgre'}"
      ]
     },
     "execution_count": 6,
     "metadata": {},
     "output_type": "execute_result"
    }
   ],
   "source": [
    "DB_SETTINGS = {\n",
    "    'source_db_localhost' : {\n",
    "        'location' : 'localhost_source',\n",
    "        'host' : \"127.0.0.1\",\n",
    "        'port' : \"5432\",\n",
    "        'user' : \"postgres\",\n",
    "        'password' : \"0328\",\n",
    "        'database' : \"dvdrental\",\n",
    "        'engine' : 'postgre'\n",
    "    }\n",
    "}\n",
    "DB_SETTINGS['source_db_localhost']"
   ]
  },
  {
   "cell_type": "markdown",
   "metadata": {},
   "source": [
    "https://hyoje420.tistory.com/45\n",
    "파이썬 모듈 설명"
   ]
  },
  {
   "cell_type": "code",
   "execution_count": 7,
   "metadata": {},
   "outputs": [
    {
     "data": {
      "text/plain": [
       "<connection object at 0x00000290356C7150; dsn: 'user=postgres password=xxx dbname=dvdrental host=127.0.0.1 port=5432', closed: 0>"
      ]
     },
     "execution_count": 7,
     "metadata": {},
     "output_type": "execute_result"
    }
   ],
   "source": [
    "import psycopg2 as postgre\n",
    "import pymssql as mssql\n",
    "import pymysql as mysql\n",
    "\n",
    "import pandas as pd\n",
    "\n",
    "class DBConnector:\n",
    "\n",
    "    def __init__(self, location, host, port, user, password, database, engine):\n",
    "        self.conn_params = dict(\n",
    "            host = host,\n",
    "            port = port,\n",
    "            user = user,\n",
    "            password = password,\n",
    "            database = database\n",
    "        )\n",
    "        # self.conn = None\n",
    "\n",
    "    def _postgre_connect(self):\n",
    "        conn = postgre.connect(**self.conn_params)\n",
    "        return conn\n",
    "\n",
    "db = DBConnector(**DB_SETTINGS['source_db_localhost'])\n",
    "db._postgre_connect()"
   ]
  },
  {
   "cell_type": "code",
   "execution_count": 8,
   "metadata": {},
   "outputs": [
    {
     "name": "stdout",
     "output_type": "stream",
     "text": [
      "\n",
      "            SELECT '201305' AS YYYYMM, * \n",
      "            FROM actor \n",
      "            WHERE TO_CHAR(CAST(last_update AS DATE), 'YYYYMM') = '201305'\n",
      "            ;\n",
      "        \n"
     ]
    }
   ],
   "source": [
    "batch_month = '201305'\n",
    "\n",
    "queries = {\n",
    "    'read': {\n",
    "        'actor': f'''\n",
    "            SELECT '{batch_month}' AS YYYYMM, * \n",
    "            FROM actor \n",
    "            WHERE TO_CHAR(CAST(last_update AS DATE), 'YYYYMM') = '{batch_month}'\n",
    "            ;\n",
    "        ''',\n",
    "        'film': f'''\n",
    "            SELECT '{batch_month}' AS YYYYMM, * \n",
    "            FROM film \n",
    "            WHERE TO_CHAR(CAST(last_update AS DATE), 'YYYYMM') = '{batch_month}'\n",
    "            ;\n",
    "        '''}\n",
    "    }\n",
    "\n",
    "print(queries['read']['actor'])"
   ]
  },
  {
   "cell_type": "code",
   "execution_count": 9,
   "metadata": {},
   "outputs": [
    {
     "name": "stdout",
     "output_type": "stream",
     "text": [
      "[('201305', 1, 'Penelope', 'Guiness', datetime.datetime(2013, 5, 26, 14, 47, 57, 620000)), ('201305', 2, 'Nick', 'Wahlberg', datetime.datetime(2013, 5, 26, 14, 47, 57, 620000)), ('201305', 3, 'Ed', 'Chase', datetime.datetime(2013, 5, 26, 14, 47, 57, 620000)), ('201305', 4, 'Jennifer', 'Davis', datetime.datetime(2013, 5, 26, 14, 47, 57, 620000)), ('201305', 5, 'Johnny', 'Lollobrigida', datetime.datetime(2013, 5, 26, 14, 47, 57, 620000))]\n"
     ]
    },
    {
     "data": {
      "text/html": [
       "<div>\n",
       "<style scoped>\n",
       "    .dataframe tbody tr th:only-of-type {\n",
       "        vertical-align: middle;\n",
       "    }\n",
       "\n",
       "    .dataframe tbody tr th {\n",
       "        vertical-align: top;\n",
       "    }\n",
       "\n",
       "    .dataframe thead th {\n",
       "        text-align: right;\n",
       "    }\n",
       "</style>\n",
       "<table border=\"1\" class=\"dataframe\">\n",
       "  <thead>\n",
       "    <tr style=\"text-align: right;\">\n",
       "      <th></th>\n",
       "      <th>0</th>\n",
       "      <th>1</th>\n",
       "      <th>2</th>\n",
       "      <th>3</th>\n",
       "      <th>4</th>\n",
       "    </tr>\n",
       "  </thead>\n",
       "  <tbody>\n",
       "    <tr>\n",
       "      <th>0</th>\n",
       "      <td>201305</td>\n",
       "      <td>1</td>\n",
       "      <td>Penelope</td>\n",
       "      <td>Guiness</td>\n",
       "      <td>2013-05-26 14:47:57.620</td>\n",
       "    </tr>\n",
       "    <tr>\n",
       "      <th>1</th>\n",
       "      <td>201305</td>\n",
       "      <td>2</td>\n",
       "      <td>Nick</td>\n",
       "      <td>Wahlberg</td>\n",
       "      <td>2013-05-26 14:47:57.620</td>\n",
       "    </tr>\n",
       "    <tr>\n",
       "      <th>2</th>\n",
       "      <td>201305</td>\n",
       "      <td>3</td>\n",
       "      <td>Ed</td>\n",
       "      <td>Chase</td>\n",
       "      <td>2013-05-26 14:47:57.620</td>\n",
       "    </tr>\n",
       "    <tr>\n",
       "      <th>3</th>\n",
       "      <td>201305</td>\n",
       "      <td>4</td>\n",
       "      <td>Jennifer</td>\n",
       "      <td>Davis</td>\n",
       "      <td>2013-05-26 14:47:57.620</td>\n",
       "    </tr>\n",
       "    <tr>\n",
       "      <th>4</th>\n",
       "      <td>201305</td>\n",
       "      <td>5</td>\n",
       "      <td>Johnny</td>\n",
       "      <td>Lollobrigida</td>\n",
       "      <td>2013-05-26 14:47:57.620</td>\n",
       "    </tr>\n",
       "  </tbody>\n",
       "</table>\n",
       "</div>"
      ],
      "text/plain": [
       "        0  1         2             3                       4\n",
       "0  201305  1  Penelope       Guiness 2013-05-26 14:47:57.620\n",
       "1  201305  2      Nick      Wahlberg 2013-05-26 14:47:57.620\n",
       "2  201305  3        Ed         Chase 2013-05-26 14:47:57.620\n",
       "3  201305  4  Jennifer         Davis 2013-05-26 14:47:57.620\n",
       "4  201305  5    Johnny  Lollobrigida 2013-05-26 14:47:57.620"
      ]
     },
     "execution_count": 9,
     "metadata": {},
     "output_type": "execute_result"
    }
   ],
   "source": [
    "cur = db._postgre_connect().cursor()\n",
    "cur.execute(queries['read']['actor'])\n",
    "\n",
    "result_all = cur.fetchall()\n",
    "print(result_all[:5])\n",
    "\n",
    "pdf = pd.DataFrame(result_all)\n",
    "pdf.head()"
   ]
  },
  {
   "cell_type": "code",
   "execution_count": 10,
   "metadata": {},
   "outputs": [
    {
     "name": "stderr",
     "output_type": "stream",
     "text": [
      "C:\\Users\\user\\AppData\\Local\\Temp\\ipykernel_30488\\1842855558.py:1: UserWarning: pandas only supports SQLAlchemy connectable (engine/connection) or database string URI or sqlite3 DBAPI2 connection. Other DBAPI2 objects are not tested. Please consider using SQLAlchemy.\n",
      "  pd.read_sql(queries['read']['actor'], db._postgre_connect())\n"
     ]
    },
    {
     "data": {
      "text/html": [
       "<div>\n",
       "<style scoped>\n",
       "    .dataframe tbody tr th:only-of-type {\n",
       "        vertical-align: middle;\n",
       "    }\n",
       "\n",
       "    .dataframe tbody tr th {\n",
       "        vertical-align: top;\n",
       "    }\n",
       "\n",
       "    .dataframe thead th {\n",
       "        text-align: right;\n",
       "    }\n",
       "</style>\n",
       "<table border=\"1\" class=\"dataframe\">\n",
       "  <thead>\n",
       "    <tr style=\"text-align: right;\">\n",
       "      <th></th>\n",
       "      <th>yyyymm</th>\n",
       "      <th>actor_id</th>\n",
       "      <th>first_name</th>\n",
       "      <th>last_name</th>\n",
       "      <th>last_update</th>\n",
       "    </tr>\n",
       "  </thead>\n",
       "  <tbody>\n",
       "    <tr>\n",
       "      <th>0</th>\n",
       "      <td>201305</td>\n",
       "      <td>1</td>\n",
       "      <td>Penelope</td>\n",
       "      <td>Guiness</td>\n",
       "      <td>2013-05-26 14:47:57.620</td>\n",
       "    </tr>\n",
       "    <tr>\n",
       "      <th>1</th>\n",
       "      <td>201305</td>\n",
       "      <td>2</td>\n",
       "      <td>Nick</td>\n",
       "      <td>Wahlberg</td>\n",
       "      <td>2013-05-26 14:47:57.620</td>\n",
       "    </tr>\n",
       "    <tr>\n",
       "      <th>2</th>\n",
       "      <td>201305</td>\n",
       "      <td>3</td>\n",
       "      <td>Ed</td>\n",
       "      <td>Chase</td>\n",
       "      <td>2013-05-26 14:47:57.620</td>\n",
       "    </tr>\n",
       "    <tr>\n",
       "      <th>3</th>\n",
       "      <td>201305</td>\n",
       "      <td>4</td>\n",
       "      <td>Jennifer</td>\n",
       "      <td>Davis</td>\n",
       "      <td>2013-05-26 14:47:57.620</td>\n",
       "    </tr>\n",
       "    <tr>\n",
       "      <th>4</th>\n",
       "      <td>201305</td>\n",
       "      <td>5</td>\n",
       "      <td>Johnny</td>\n",
       "      <td>Lollobrigida</td>\n",
       "      <td>2013-05-26 14:47:57.620</td>\n",
       "    </tr>\n",
       "    <tr>\n",
       "      <th>...</th>\n",
       "      <td>...</td>\n",
       "      <td>...</td>\n",
       "      <td>...</td>\n",
       "      <td>...</td>\n",
       "      <td>...</td>\n",
       "    </tr>\n",
       "    <tr>\n",
       "      <th>195</th>\n",
       "      <td>201305</td>\n",
       "      <td>196</td>\n",
       "      <td>Bela</td>\n",
       "      <td>Walken</td>\n",
       "      <td>2013-05-26 14:47:57.620</td>\n",
       "    </tr>\n",
       "    <tr>\n",
       "      <th>196</th>\n",
       "      <td>201305</td>\n",
       "      <td>197</td>\n",
       "      <td>Reese</td>\n",
       "      <td>West</td>\n",
       "      <td>2013-05-26 14:47:57.620</td>\n",
       "    </tr>\n",
       "    <tr>\n",
       "      <th>197</th>\n",
       "      <td>201305</td>\n",
       "      <td>198</td>\n",
       "      <td>Mary</td>\n",
       "      <td>Keitel</td>\n",
       "      <td>2013-05-26 14:47:57.620</td>\n",
       "    </tr>\n",
       "    <tr>\n",
       "      <th>198</th>\n",
       "      <td>201305</td>\n",
       "      <td>199</td>\n",
       "      <td>Julia</td>\n",
       "      <td>Fawcett</td>\n",
       "      <td>2013-05-26 14:47:57.620</td>\n",
       "    </tr>\n",
       "    <tr>\n",
       "      <th>199</th>\n",
       "      <td>201305</td>\n",
       "      <td>200</td>\n",
       "      <td>Thora</td>\n",
       "      <td>Temple</td>\n",
       "      <td>2013-05-26 14:47:57.620</td>\n",
       "    </tr>\n",
       "  </tbody>\n",
       "</table>\n",
       "<p>200 rows × 5 columns</p>\n",
       "</div>"
      ],
      "text/plain": [
       "     yyyymm  actor_id first_name     last_name             last_update\n",
       "0    201305         1   Penelope       Guiness 2013-05-26 14:47:57.620\n",
       "1    201305         2       Nick      Wahlberg 2013-05-26 14:47:57.620\n",
       "2    201305         3         Ed         Chase 2013-05-26 14:47:57.620\n",
       "3    201305         4   Jennifer         Davis 2013-05-26 14:47:57.620\n",
       "4    201305         5     Johnny  Lollobrigida 2013-05-26 14:47:57.620\n",
       "..      ...       ...        ...           ...                     ...\n",
       "195  201305       196       Bela        Walken 2013-05-26 14:47:57.620\n",
       "196  201305       197      Reese          West 2013-05-26 14:47:57.620\n",
       "197  201305       198       Mary        Keitel 2013-05-26 14:47:57.620\n",
       "198  201305       199      Julia       Fawcett 2013-05-26 14:47:57.620\n",
       "199  201305       200      Thora        Temple 2013-05-26 14:47:57.620\n",
       "\n",
       "[200 rows x 5 columns]"
      ]
     },
     "execution_count": 10,
     "metadata": {},
     "output_type": "execute_result"
    }
   ],
   "source": [
    "pd.read_sql(queries['read']['actor'], db._postgre_connect())"
   ]
  },
  {
   "cell_type": "code",
   "execution_count": 3,
   "metadata": {},
   "outputs": [
    {
     "ename": "NameError",
     "evalue": "name 'Decimal' is not defined",
     "output_type": "error",
     "traceback": [
      "\u001b[1;31m---------------------------------------------------------------------------\u001b[0m",
      "\u001b[1;31mNameError\u001b[0m                                 Traceback (most recent call last)",
      "Cell \u001b[1;32mIn[3], line 4\u001b[0m\n\u001b[0;32m      1\u001b[0m \u001b[39mimport\u001b[39;00m \u001b[39mdatetime\u001b[39;00m\n\u001b[0;32m      2\u001b[0m \u001b[39mtype\u001b[39m([(\u001b[39m'\u001b[39m\u001b[39m201305\u001b[39m\u001b[39m'\u001b[39m, \u001b[39m1\u001b[39m, \u001b[39m'\u001b[39m\u001b[39mPenelope\u001b[39m\u001b[39m'\u001b[39m, \u001b[39m'\u001b[39m\u001b[39mGuiness\u001b[39m\u001b[39m'\u001b[39m, datetime\u001b[39m.\u001b[39mdatetime(\u001b[39m2013\u001b[39m, \u001b[39m5\u001b[39m, \u001b[39m26\u001b[39m, \u001b[39m14\u001b[39m, \u001b[39m47\u001b[39m, \u001b[39m57\u001b[39m, \u001b[39m620000\u001b[39m)),\n\u001b[0;32m      3\u001b[0m  (\u001b[39m'\u001b[39m\u001b[39m201305\u001b[39m\u001b[39m'\u001b[39m, \u001b[39m2\u001b[39m, \u001b[39m'\u001b[39m\u001b[39mNick\u001b[39m\u001b[39m'\u001b[39m, \u001b[39m'\u001b[39m\u001b[39mWahlberg\u001b[39m\u001b[39m'\u001b[39m, datetime\u001b[39m.\u001b[39mdatetime(\u001b[39m2013\u001b[39m, \u001b[39m5\u001b[39m, \u001b[39m26\u001b[39m, \u001b[39m14\u001b[39m, \u001b[39m47\u001b[39m, \u001b[39m57\u001b[39m, \u001b[39m620000\u001b[39m))],\n\u001b[1;32m----> 4\u001b[0m [(\u001b[39m'\u001b[39m\u001b[39m201305\u001b[39m\u001b[39m'\u001b[39m, \u001b[39m133\u001b[39m, \u001b[39m'\u001b[39m\u001b[39mChamber Italian\u001b[39m\u001b[39m'\u001b[39m, \u001b[39m'\u001b[39m\u001b[39mA Fateful Reflection of a Moose And a Husband who must Overcome a Monkey in Nigeria\u001b[39m\u001b[39m'\u001b[39m, \u001b[39m2006\u001b[39m, \u001b[39m1\u001b[39m, \u001b[39m7\u001b[39m, Decimal(\u001b[39m'\u001b[39m\u001b[39m4.99\u001b[39m\u001b[39m'\u001b[39m), \u001b[39m117\u001b[39m, Decimal(\u001b[39m'\u001b[39m\u001b[39m14.99\u001b[39m\u001b[39m'\u001b[39m), \u001b[39m'\u001b[39m\u001b[39mNC-17\u001b[39m\u001b[39m'\u001b[39m, datetime\u001b[39m.\u001b[39mdatetime(\u001b[39m2013\u001b[39m, \u001b[39m5\u001b[39m, \u001b[39m26\u001b[39m, \u001b[39m14\u001b[39m, \u001b[39m50\u001b[39m, \u001b[39m58\u001b[39m, \u001b[39m951000\u001b[39m), [\u001b[39m'\u001b[39m\u001b[39mTrailers\u001b[39m\u001b[39m'\u001b[39m], \u001b[39m\"\u001b[39m\u001b[39m'\u001b[39m\u001b[39mchamber\u001b[39m\u001b[39m'\u001b[39m\u001b[39m:1 \u001b[39m\u001b[39m'\u001b[39m\u001b[39mfate\u001b[39m\u001b[39m'\u001b[39m\u001b[39m:4 \u001b[39m\u001b[39m'\u001b[39m\u001b[39mhusband\u001b[39m\u001b[39m'\u001b[39m\u001b[39m:11 \u001b[39m\u001b[39m'\u001b[39m\u001b[39mitalian\u001b[39m\u001b[39m'\u001b[39m\u001b[39m:2 \u001b[39m\u001b[39m'\u001b[39m\u001b[39mmonkey\u001b[39m\u001b[39m'\u001b[39m\u001b[39m:16 \u001b[39m\u001b[39m'\u001b[39m\u001b[39mmoos\u001b[39m\u001b[39m'\u001b[39m\u001b[39m:8 \u001b[39m\u001b[39m'\u001b[39m\u001b[39mmust\u001b[39m\u001b[39m'\u001b[39m\u001b[39m:13 \u001b[39m\u001b[39m'\u001b[39m\u001b[39mnigeria\u001b[39m\u001b[39m'\u001b[39m\u001b[39m:18 \u001b[39m\u001b[39m'\u001b[39m\u001b[39movercom\u001b[39m\u001b[39m'\u001b[39m\u001b[39m:14 \u001b[39m\u001b[39m'\u001b[39m\u001b[39mreflect\u001b[39m\u001b[39m'\u001b[39m\u001b[39m:5\u001b[39m\u001b[39m\"\u001b[39m),\n\u001b[0;32m      5\u001b[0m  (\u001b[39m'\u001b[39m\u001b[39m201305\u001b[39m\u001b[39m'\u001b[39m, \u001b[39m384\u001b[39m, \u001b[39m'\u001b[39m\u001b[39mGrosse Wonderful\u001b[39m\u001b[39m'\u001b[39m, \u001b[39m'\u001b[39m\u001b[39mA Epic Drama of a Cat And a Explorer who must Redeem a Moose in Australia\u001b[39m\u001b[39m'\u001b[39m, \u001b[39m2006\u001b[39m, \u001b[39m1\u001b[39m, \u001b[39m5\u001b[39m, Decimal(\u001b[39m'\u001b[39m\u001b[39m4.99\u001b[39m\u001b[39m'\u001b[39m), \u001b[39m49\u001b[39m, Decimal(\u001b[39m'\u001b[39m\u001b[39m19.99\u001b[39m\u001b[39m'\u001b[39m), \u001b[39m'\u001b[39m\u001b[39mR\u001b[39m\u001b[39m'\u001b[39m, datetime\u001b[39m.\u001b[39mdatetime(\u001b[39m2013\u001b[39m, \u001b[39m5\u001b[39m, \u001b[39m26\u001b[39m, \u001b[39m14\u001b[39m, \u001b[39m50\u001b[39m, \u001b[39m58\u001b[39m, \u001b[39m951000\u001b[39m), [\u001b[39m'\u001b[39m\u001b[39mBehind the Scenes\u001b[39m\u001b[39m'\u001b[39m], \u001b[39m\"\u001b[39m\u001b[39m'\u001b[39m\u001b[39maustralia\u001b[39m\u001b[39m'\u001b[39m\u001b[39m:18 \u001b[39m\u001b[39m'\u001b[39m\u001b[39mcat\u001b[39m\u001b[39m'\u001b[39m\u001b[39m:8 \u001b[39m\u001b[39m'\u001b[39m\u001b[39mdrama\u001b[39m\u001b[39m'\u001b[39m\u001b[39m:5 \u001b[39m\u001b[39m'\u001b[39m\u001b[39mepic\u001b[39m\u001b[39m'\u001b[39m\u001b[39m:4 \u001b[39m\u001b[39m'\u001b[39m\u001b[39mexplor\u001b[39m\u001b[39m'\u001b[39m\u001b[39m:11 \u001b[39m\u001b[39m'\u001b[39m\u001b[39mgross\u001b[39m\u001b[39m'\u001b[39m\u001b[39m:1 \u001b[39m\u001b[39m'\u001b[39m\u001b[39mmoos\u001b[39m\u001b[39m'\u001b[39m\u001b[39m:16 \u001b[39m\u001b[39m'\u001b[39m\u001b[39mmust\u001b[39m\u001b[39m'\u001b[39m\u001b[39m:13 \u001b[39m\u001b[39m'\u001b[39m\u001b[39mredeem\u001b[39m\u001b[39m'\u001b[39m\u001b[39m:14 \u001b[39m\u001b[39m'\u001b[39m\u001b[39mwonder\u001b[39m\u001b[39m'\u001b[39m\u001b[39m:2\u001b[39m\u001b[39m\"\u001b[39m)])\n",
      "\u001b[1;31mNameError\u001b[0m: name 'Decimal' is not defined"
     ]
    }
   ],
   "source": [
    "import datetime\n",
    "type([('201305', 1, 'Penelope', 'Guiness', datetime.datetime(2013, 5, 26, 14, 47, 57, 620000)),\n",
    " ('201305', 2, 'Nick', 'Wahlberg', datetime.datetime(2013, 5, 26, 14, 47, 57, 620000))],\n",
    "[('201305', 133, 'Chamber Italian', 'A Fateful Reflection of a Moose And a Husband who must Overcome a Monkey in Nigeria', 2006, 1, 7, Decimal('4.99'), 117, Decimal('14.99'), 'NC-17', datetime.datetime(2013, 5, 26, 14, 50, 58, 951000), ['Trailers'], \"'chamber':1 'fate':4 'husband':11 'italian':2 'monkey':16 'moos':8 'must':13 'nigeria':18 'overcom':14 'reflect':5\"),\n",
    " ('201305', 384, 'Grosse Wonderful', 'A Epic Drama of a Cat And a Explorer who must Redeem a Moose in Australia', 2006, 1, 5, Decimal('4.99'), 49, Decimal('19.99'), 'R', datetime.datetime(2013, 5, 26, 14, 50, 58, 951000), ['Behind the Scenes'], \"'australia':18 'cat':8 'drama':5 'epic':4 'explor':11 'gross':1 'moos':16 'must':13 'redeem':14 'wonder':2\")])"
   ]
  },
  {
   "cell_type": "code",
   "execution_count": null,
   "metadata": {},
   "outputs": [],
   "source": [
    "[(), ()][()]"
   ]
  },
  {
   "cell_type": "code",
   "execution_count": null,
   "metadata": {},
   "outputs": [],
   "source": [
    "pd.read_sql('''SELECT column_name, data_type FROM information_schema,'columns' WHERE table_name = 'actor';''', db_source._postgre_connect())"
   ]
  },
  {
   "cell_type": "code",
   "execution_count": 1,
   "metadata": {},
   "outputs": [
    {
     "ename": "NameError",
     "evalue": "name 'pdf' is not defined",
     "output_type": "error",
     "traceback": [
      "\u001b[1;31m---------------------------------------------------------------------------\u001b[0m",
      "\u001b[1;31mNameError\u001b[0m                                 Traceback (most recent call last)",
      "Cell \u001b[1;32mIn[1], line 1\u001b[0m\n\u001b[1;32m----> 1\u001b[0m pdf\n",
      "\u001b[1;31mNameError\u001b[0m: name 'pdf' is not defined"
     ]
    }
   ],
   "source": [
    "pdf"
   ]
  },
  {
   "cell_type": "code",
   "execution_count": null,
   "metadata": {},
   "outputs": [],
   "source": []
  }
 ],
 "metadata": {
  "kernelspec": {
   "display_name": "Python 3.8.15 ('py38')",
   "language": "python",
   "name": "python3"
  },
  "language_info": {
   "codemirror_mode": {
    "name": "ipython",
    "version": 3
   },
   "file_extension": ".py",
   "mimetype": "text/x-python",
   "name": "python",
   "nbconvert_exporter": "python",
   "pygments_lexer": "ipython3",
   "version": "3.8.15"
  },
  "orig_nbformat": 4,
  "vscode": {
   "interpreter": {
    "hash": "23ceb7112fbf9d0e38ecbf60d6e6d5e2dcebcc82200eeb1e5a5d5f9ffb9e27ca"
   }
  }
 },
 "nbformat": 4,
 "nbformat_minor": 2
}
